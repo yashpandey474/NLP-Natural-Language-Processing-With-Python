{
 "cells": [
  {
   "cell_type": "code",
   "execution_count": 2,
   "id": "ae5bfea1",
   "metadata": {},
   "outputs": [],
   "source": [
    "#REMOVING STOP WORDS: BASIC STEP OF NLP\n",
    "import spacy\n",
    "nlp = spacy.load('en_core_web_sm')"
   ]
  },
  {
   "cell_type": "code",
   "execution_count": 3,
   "id": "fbc0579b",
   "metadata": {},
   "outputs": [
    {
     "name": "stdout",
     "output_type": "stream",
     "text": [
      "{'who', 'back', 'least', 'now', 'that', 'twelve', 'much', 'we', 'meanwhile', 'say', 'whence', 'across', 'otherwise', 'regarding', 'although', 'of', 'latterly', 'above', 'seemed', 'whereupon', 'make', 'less', 'would', 'again', 'anyone', 'everyone', 'me', 'ours', 'you', 'thus', 'ten', 'she', 'how', 'so', 'third', 'which', 'whom', 'before', 'too', 'were', 'this', 'i', 'forty', 'else', 'twenty', 'neither', 'due', 'a', 'hereby', 'everything', 'most', 'down', 'hereupon', 'off', 'these', 'move', 'at', 'well', 'are', 'our', 'until', 'therein', 'always', 'mostly', 'had', 'eight', 'itself', 'ourselves', 'get', 'thence', 'there', 'up', 'their', 'used', 'whither', 'already', 'has', 'seeming', 'namely', 'through', 'become', 'hereafter', 'please', 'in', 'perhaps', 'the', 'moreover', 'am', 'call', 'an', 'doing', 'on', 'once', 'done', 'sometime', 'nowhere', 'without', 'herself', 'keep', 'fifty', 'really', 'still', 'anyway', 'therefore', 'former', 'give', 'two', 'some', 'hers', 'thereupon', 'why', 'during', 'four', 'his', 'own', 'using', 'indeed', 'whole', 'put', 'serious', 'he', 'ca', 'under', 'via', 'part', 'seem', 'will', 'becomes', 'does', 'nevertheless', 'only', 'herein', 'see', 'whenever', 'all', 'might', 'whether', 'my', 'alone', 'such', 'by', 'hence', 'five', 'never', 'per', 'behind', 'none', 'made', 'could', 'quite', 'became', 'others', 'except', 'among', 'further', 'one', 'three', 'fifteen', 'its', 'than', 'whereby', 'take', 'whoever', 'noone', 'nobody', 'no', 'last', 'around', 'though', 'toward', 'then', 'wherein', 'amount', 'eleven', 'also', 'formerly', 'nine', 'nothing', 'nor', 'first', 'may', 'front', 'myself', 'within', 'beyond', 'more', 'or', 'upon', 'is', 'yourselves', 'ever', 'here', 'another', 'below', 'between', 'those', 'out', 'just', 'almost', 'do', 'along', 'for', 'hundred', 'them', 'sixty', 'seems', 'each', 'from', 'go', 'it', 'us', 'enough', 'next', 'into', 'what', 'anything', 'anywhere', 're', 'besides', 'somehow', 'after', 'whereas', 'did', 'not', 'be', 'becoming', 'beside', 'thereby', 'about', 'six', 'beforehand', 'someone', 'elsewhere', 'but', 'few', 'where', 'everywhere', 'yourself', 'somewhere', 'amongst', 'have', 'top', 'when', 'thru', 'him', 'with', 'every', 'your', 'many', 'thereafter', 'whatever', 'himself', 'empty', 'latter', 'often', 'both', 'while', 'yours', 'name', 'same', 'throughout', 'and', 'together', 'side', 'towards', 'whereafter', 'afterwards', 'however', 'her', 'yet', 'was', 'should', 'being', 'something', 'as', 'to', 'any', 'over', 'rather', 'mine', 'other', 'even', 'they', 'onto', 'several', 'whose', 'cannot', 'various', 'either', 'can', 'if', 'wherever', 'anyhow', 'unless', 'must', 'because', 'been', 'since', 'very', 'show', 'bottom', 'sometimes', 'against', 'full', 'themselves'}\n"
     ]
    }
   ],
   "source": [
    "print(nlp.Defaults.stop_words)"
   ]
  },
  {
   "cell_type": "code",
   "execution_count": 4,
   "id": "1da7c8d7",
   "metadata": {},
   "outputs": [
    {
     "data": {
      "text/plain": [
       "305"
      ]
     },
     "execution_count": 4,
     "metadata": {},
     "output_type": "execute_result"
    }
   ],
   "source": [
    "len(nlp.Defaults.stop_words)"
   ]
  },
  {
   "cell_type": "code",
   "execution_count": 8,
   "id": "b1d5de90",
   "metadata": {},
   "outputs": [
    {
     "data": {
      "text/plain": [
       "False"
      ]
     },
     "execution_count": 8,
     "metadata": {},
     "output_type": "execute_result"
    }
   ],
   "source": [
    "#CHECK IF A WORD IS A STOP WORD\n",
    "nlp.vocab['mystery'].is_stop"
   ]
  },
  {
   "cell_type": "code",
   "execution_count": 18,
   "id": "79796cac",
   "metadata": {},
   "outputs": [],
   "source": [
    "#ADD A STOP WORD TO THE DEFAULT SET\n",
    "nlp.Defaults.stop_words.add('btw')"
   ]
  },
  {
   "cell_type": "code",
   "execution_count": 12,
   "id": "c1b9dcd6",
   "metadata": {},
   "outputs": [],
   "source": [
    "nlp.vocab['btw'].is_stop = True"
   ]
  },
  {
   "cell_type": "code",
   "execution_count": 19,
   "id": "d32d0085",
   "metadata": {},
   "outputs": [],
   "source": [
    "#REMOVE A STOP WORD FROM THE DEFAULT SET\n",
    "nlp.Defaults.stop_words.remove('beyond')"
   ]
  },
  {
   "cell_type": "code",
   "execution_count": 20,
   "id": "9cee8d8a",
   "metadata": {},
   "outputs": [],
   "source": [
    "nlp.vocab['beyond'].is_stop = False"
   ]
  },
  {
   "cell_type": "code",
   "execution_count": null,
   "id": "79f3324b",
   "metadata": {},
   "outputs": [],
   "source": []
  }
 ],
 "metadata": {
  "kernelspec": {
   "display_name": "Python 3 (ipykernel)",
   "language": "python",
   "name": "python3"
  },
  "language_info": {
   "codemirror_mode": {
    "name": "ipython",
    "version": 3
   },
   "file_extension": ".py",
   "mimetype": "text/x-python",
   "name": "python",
   "nbconvert_exporter": "python",
   "pygments_lexer": "ipython3",
   "version": "3.7.16"
  }
 },
 "nbformat": 4,
 "nbformat_minor": 5
}
