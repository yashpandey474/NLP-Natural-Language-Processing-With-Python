{
 "cells": [
  {
   "cell_type": "code",
   "execution_count": 1,
   "id": "9a81d998",
   "metadata": {},
   "outputs": [],
   "source": [
    "import spacy\n"
   ]
  },
  {
   "cell_type": "code",
   "execution_count": 2,
   "id": "f997ec43",
   "metadata": {},
   "outputs": [],
   "source": [
    "#LOAD THE LANGUAGE LIBRARY\n",
    "nlp = spacy.load('en_core_web_sm') #SMALL VERSION"
   ]
  },
  {
   "cell_type": "code",
   "execution_count": 10,
   "id": "1e1ffe0b",
   "metadata": {},
   "outputs": [],
   "source": [
    "#CREATE A DOCUMENT OBJECT\n",
    "doc = nlp(u'Tesla is looking at buying U.S Startup for $6 Million') #UNICODE STRING"
   ]
  },
  {
   "cell_type": "code",
   "execution_count": 11,
   "id": "28406e60",
   "metadata": {},
   "outputs": [
    {
     "name": "stdout",
     "output_type": "stream",
     "text": [
      "Tesla PROPN nsubj\n",
      "is VERB aux\n",
      "looking VERB ROOT\n",
      "at ADP prep\n",
      "buying VERB pcomp\n",
      "U.S PROPN compound\n",
      "Startup PROPN dobj\n",
      "for ADP prep\n",
      "$ SYM quantmod\n",
      "6 NUM compound\n",
      "Million NUM pobj\n"
     ]
    }
   ],
   "source": [
    "for token in doc:\n",
    "    print(token.text, token.pos_, token.dep_) #TEXT, PART-OF-SPEECH\n",
    "    #DEP: SYNTACTIC DEPENDENCY"
   ]
  },
  {
   "cell_type": "code",
   "execution_count": 12,
   "id": "e28597e2",
   "metadata": {},
   "outputs": [
    {
     "data": {
      "text/plain": [
       "[('tagger', <spacy.pipeline.Tagger at 0x7fd19ebceb10>),\n",
       " ('parser', <spacy.pipeline.DependencyParser at 0x7fd19ed7c050>),\n",
       " ('ner', <spacy.pipeline.EntityRecognizer at 0x7fd19ed7c5f0>)]"
      ]
     },
     "execution_count": 12,
     "metadata": {},
     "output_type": "execute_result"
    }
   ],
   "source": [
    "#PIPELINE OBJECT\n",
    "nlp.pipeline #TAGGER, PARSER, NAMED ENTITY RECOGNIZER"
   ]
  },
  {
   "cell_type": "code",
   "execution_count": 13,
   "id": "45b4bf97",
   "metadata": {},
   "outputs": [
    {
     "data": {
      "text/plain": [
       "['tagger', 'parser', 'ner']"
      ]
     },
     "execution_count": 13,
     "metadata": {},
     "output_type": "execute_result"
    }
   ],
   "source": [
    "nlp.pipe_names"
   ]
  },
  {
   "cell_type": "code",
   "execution_count": 18,
   "id": "cbc63214",
   "metadata": {},
   "outputs": [],
   "source": [
    "#TOKENIZATION: FIRST STEP IN PROCESSING ANY TEXT\n",
    "doc2 = nlp(u\"Tesla isn't looking into startups anymore.\")\n"
   ]
  },
  {
   "cell_type": "code",
   "execution_count": 19,
   "id": "f6291a65",
   "metadata": {},
   "outputs": [
    {
     "name": "stdout",
     "output_type": "stream",
     "text": [
      "Tesla PROPN nsubj\n",
      "is VERB aux\n",
      "n't ADV neg\n",
      "looking VERB ROOT\n",
      "into ADP prep\n",
      "startups NOUN pobj\n",
      "anymore ADV advmod\n",
      ". PUNCT punct\n"
     ]
    }
   ],
   "source": [
    "#ITERATION TO GRAB TOKENS\n",
    "for token in doc2:\n",
    "    print(token.text, token.pos_, token.dep_)"
   ]
  },
  {
   "cell_type": "code",
   "execution_count": 23,
   "id": "9c250f3f",
   "metadata": {},
   "outputs": [
    {
     "name": "stdout",
     "output_type": "stream",
     "text": [
      "PROPN nsubj\n"
     ]
    }
   ],
   "source": [
    "#INDEXING TO GRAB TOKENS\n",
    "print(doc2[0].pos_, doc2[0].dep_)"
   ]
  },
  {
   "cell_type": "code",
   "execution_count": 24,
   "id": "156873a2",
   "metadata": {},
   "outputs": [],
   "source": [
    "doc3 = nlp(u'Although commmonly attributed to John Lennon from his song \"Beautiful Boy\", \\\n",
    "the phrase \"Life is what happens to us while we are making other plans\" was written by \\\n",
    "cartoonist Allen Saunders and published in Reader\\'s Digest in 1957, when Lennon was 17.')"
   ]
  },
  {
   "cell_type": "code",
   "execution_count": 25,
   "id": "639b1947",
   "metadata": {},
   "outputs": [
    {
     "name": "stdout",
     "output_type": "stream",
     "text": [
      "\"Life is what happens to us while we are making other plans\"\n"
     ]
    }
   ],
   "source": [
    "#GRAB A SPAN OF THE DOCUMENT\n",
    "life_quote = doc3[16:30] \n",
    "print(life_quote)"
   ]
  },
  {
   "cell_type": "code",
   "execution_count": 26,
   "id": "5311f6c7",
   "metadata": {},
   "outputs": [
    {
     "data": {
      "text/plain": [
       "spacy.tokens.span.Span"
      ]
     },
     "execution_count": 26,
     "metadata": {},
     "output_type": "execute_result"
    }
   ],
   "source": [
    "type(life_quote)"
   ]
  },
  {
   "cell_type": "code",
   "execution_count": 27,
   "id": "51b5d3ae",
   "metadata": {},
   "outputs": [
    {
     "data": {
      "text/plain": [
       "spacy.tokens.doc.Doc"
      ]
     },
     "execution_count": 27,
     "metadata": {},
     "output_type": "execute_result"
    }
   ],
   "source": [
    "type(doc3)"
   ]
  },
  {
   "cell_type": "code",
   "execution_count": 28,
   "id": "4c0fdb46",
   "metadata": {},
   "outputs": [],
   "source": [
    "doc4 = nlp(u\"This is the first sentence. tHIS IS ANOTHER SENTENCE. tHIS IS THE LAST SENTENCE.\")"
   ]
  },
  {
   "cell_type": "code",
   "execution_count": 29,
   "id": "cacb7e58",
   "metadata": {},
   "outputs": [
    {
     "name": "stdout",
     "output_type": "stream",
     "text": [
      "This is the first sentence.\n",
      "tHIS IS ANOTHER SENTENCE.\n",
      "tHIS IS THE LAST SENTENCE.\n"
     ]
    }
   ],
   "source": [
    "#ITERATE THROUGH NUMEROUS SENTENCES\n",
    "for sentence in doc4.sents:\n",
    "    print(sentence)"
   ]
  },
  {
   "cell_type": "code",
   "execution_count": 33,
   "id": "62b21c78",
   "metadata": {},
   "outputs": [
    {
     "data": {
      "text/plain": [
       "True"
      ]
     },
     "execution_count": 33,
     "metadata": {},
     "output_type": "execute_result"
    }
   ],
   "source": [
    "#IS IT A START OF SENTENCE?\n",
    "doc4[8].is_sent_start\n",
    "doc4[6].is_sent_start"
   ]
  },
  {
   "cell_type": "code",
   "execution_count": null,
   "id": "1e96efad",
   "metadata": {},
   "outputs": [],
   "source": []
  },
  {
   "cell_type": "code",
   "execution_count": null,
   "id": "59ac20d5",
   "metadata": {},
   "outputs": [],
   "source": []
  },
  {
   "cell_type": "code",
   "execution_count": null,
   "id": "821ef34d",
   "metadata": {},
   "outputs": [],
   "source": []
  },
  {
   "cell_type": "code",
   "execution_count": null,
   "id": "e9b110bc",
   "metadata": {},
   "outputs": [],
   "source": []
  }
 ],
 "metadata": {
  "kernelspec": {
   "display_name": "Python 3 (ipykernel)",
   "language": "python",
   "name": "python3"
  },
  "language_info": {
   "codemirror_mode": {
    "name": "ipython",
    "version": 3
   },
   "file_extension": ".py",
   "mimetype": "text/x-python",
   "name": "python",
   "nbconvert_exporter": "python",
   "pygments_lexer": "ipython3",
   "version": "3.7.16"
  }
 },
 "nbformat": 4,
 "nbformat_minor": 5
}
