{
 "cells": [
  {
   "cell_type": "code",
   "execution_count": 1,
   "id": "6b8a607b",
   "metadata": {},
   "outputs": [
    {
     "name": "stderr",
     "output_type": "stream",
     "text": [
      "/Users/kpandey/anaconda3/envs/nlp_course/lib/python3.7/site-packages/sklearn/utils/validation.py:37: DeprecationWarning: distutils Version classes are deprecated. Use packaging.version instead.\n",
      "  LARGE_SPARSE_SUPPORTED = LooseVersion(scipy_version) >= '0.14.0'\n"
     ]
    }
   ],
   "source": [
    "###LECTURE ON STEMMING\n",
    "import nltk"
   ]
  },
  {
   "cell_type": "code",
   "execution_count": 2,
   "id": "45419d05",
   "metadata": {},
   "outputs": [],
   "source": [
    "from nltk.stem.porter import PorterStemmer"
   ]
  },
  {
   "cell_type": "code",
   "execution_count": 3,
   "id": "e6c80865",
   "metadata": {},
   "outputs": [],
   "source": [
    "p_stemmer = PorterStemmer()\n"
   ]
  },
  {
   "cell_type": "code",
   "execution_count": 15,
   "id": "a3bf70e1",
   "metadata": {},
   "outputs": [],
   "source": [
    "words = ['movie', 'generous','generation','reviews','generously', 'generate', 'run', 'runner', 'ran', 'runs', 'easily', 'fairly', 'fairness']"
   ]
  },
  {
   "cell_type": "code",
   "execution_count": 14,
   "id": "081abdf5",
   "metadata": {},
   "outputs": [
    {
     "name": "stdout",
     "output_type": "stream",
     "text": [
      "run      ---->   run\n",
      "runner      ---->   runner\n",
      "ran      ---->   ran\n",
      "runs      ---->   run\n",
      "easily      ---->   easili\n",
      "fairly      ---->   fairli\n",
      "fairness      ---->   fair\n"
     ]
    }
   ],
   "source": [
    "for word in words:\n",
    "    print(word + '      ' + '---->' + '   ' + p_stemmer.stem(word))"
   ]
  },
  {
   "cell_type": "code",
   "execution_count": 10,
   "id": "1aa24dbc",
   "metadata": {},
   "outputs": [],
   "source": [
    "#SNOWBALL STEMMER\n",
    "from nltk.stem.snowball import SnowballStemmer\n",
    "s_stemmer = SnowballStemmer(language='english')"
   ]
  },
  {
   "cell_type": "code",
   "execution_count": 16,
   "id": "5ec2e46d",
   "metadata": {},
   "outputs": [
    {
     "name": "stdout",
     "output_type": "stream",
     "text": [
      "movie ---->movi\n",
      "generous ---->generous\n",
      "generation ---->generat\n",
      "reviews ---->review\n",
      "generously ---->generous\n",
      "generate ---->generat\n",
      "run ---->run\n",
      "runner ---->runner\n",
      "ran ---->ran\n",
      "runs ---->run\n",
      "easily ---->easili\n",
      "fairly ---->fair\n",
      "fairness ---->fair\n"
     ]
    }
   ],
   "source": [
    "for word in words:\n",
    "    print(word + ' ---->' + s_stemmer.stem(word))"
   ]
  },
  {
   "cell_type": "code",
   "execution_count": null,
   "id": "89b86c78",
   "metadata": {},
   "outputs": [],
   "source": []
  }
 ],
 "metadata": {
  "kernelspec": {
   "display_name": "Python 3 (ipykernel)",
   "language": "python",
   "name": "python3"
  },
  "language_info": {
   "codemirror_mode": {
    "name": "ipython",
    "version": 3
   },
   "file_extension": ".py",
   "mimetype": "text/x-python",
   "name": "python",
   "nbconvert_exporter": "python",
   "pygments_lexer": "ipython3",
   "version": "3.7.16"
  }
 },
 "nbformat": 4,
 "nbformat_minor": 5
}
