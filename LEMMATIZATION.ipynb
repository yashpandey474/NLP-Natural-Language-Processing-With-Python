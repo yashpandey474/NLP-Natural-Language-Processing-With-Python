{
 "cells": [
  {
   "cell_type": "code",
   "execution_count": 1,
   "id": "5cd18b8b",
   "metadata": {},
   "outputs": [],
   "source": [
    "import spacy"
   ]
  },
  {
   "cell_type": "code",
   "execution_count": 2,
   "id": "f5d34a00",
   "metadata": {},
   "outputs": [],
   "source": [
    "nlp = spacy.load('en_core_web_sm')"
   ]
  },
  {
   "cell_type": "code",
   "execution_count": 3,
   "id": "21cae100",
   "metadata": {},
   "outputs": [],
   "source": [
    "doc1 = nlp(u\"I am a runner running in a race becaue I love to run since I ran\")"
   ]
  },
  {
   "cell_type": "code",
   "execution_count": 6,
   "id": "3840b783",
   "metadata": {},
   "outputs": [
    {
     "name": "stdout",
     "output_type": "stream",
     "text": [
      "I \t PRON \t 561228191312463089 \t -PRON-\n",
      "am \t VERB \t 10382539506755952630 \t be\n",
      "a \t DET \t 11901859001352538922 \t a\n",
      "runner \t NOUN \t 12640964157389618806 \t runner\n",
      "running \t VERB \t 12767647472892411841 \t run\n",
      "in \t ADP \t 3002984154512732771 \t in\n",
      "a \t DET \t 11901859001352538922 \t a\n",
      "race \t NOUN \t 8048469955494714898 \t race\n",
      "becaue \t NOUN \t 896578388165802945 \t becaue\n",
      "I \t PRON \t 561228191312463089 \t -PRON-\n",
      "love \t VERB \t 3702023516439754181 \t love\n",
      "to \t PART \t 3791531372978436496 \t to\n",
      "run \t VERB \t 12767647472892411841 \t run\n",
      "since \t ADP \t 10066841407251338481 \t since\n",
      "I \t PRON \t 561228191312463089 \t -PRON-\n",
      "ran \t VERB \t 12767647472892411841 \t run\n"
     ]
    }
   ],
   "source": [
    "for token in doc1:\n",
    "    print(token.text, '\\t', token.pos_, '\\t', token.lemma, '\\t', token.lemma_)"
   ]
  },
  {
   "cell_type": "code",
   "execution_count": 9,
   "id": "61a123cc",
   "metadata": {},
   "outputs": [],
   "source": [
    "def show_lemmas(text):\n",
    "    for token in text:\n",
    "        print(f\"{token.text:{12}} {token.pos_:{6}} {token.lemma:<{22}} {token.lemma_:{22}}\")"
   ]
  },
  {
   "cell_type": "code",
   "execution_count": 12,
   "id": "0ed53442",
   "metadata": {},
   "outputs": [
    {
     "name": "stdout",
     "output_type": "stream",
     "text": [
      "I            PRON   561228191312463089     -PRON-                \n",
      "am           VERB   10382539506755952630   be                    \n",
      "Yash         PROPN  8199612339274304772    yash                  \n",
      "Pandey       PROPN  4245858782493139039    pandey                \n",
      ".            PUNCT  12646065887601541794   .                     \n",
      "I            PRON   561228191312463089     -PRON-                \n",
      "love         VERB   3702023516439754181    love                  \n",
      "playing      VERB   8228585124152053988    play                  \n",
      "guitar       NOUN   13533102915073649304   guitar                \n",
      "and          CCONJ  2283656566040971221    and                   \n",
      "swimming     NOUN   12526975369366237900   swimming              \n",
      "!            PUNCT  17494803046312582752   !                     \n"
     ]
    }
   ],
   "source": [
    "show_lemmas(nlp(u\"I am Yash Pandey. I love playing guitar and swimming!\"))"
   ]
  },
  {
   "cell_type": "code",
   "execution_count": null,
   "id": "35408961",
   "metadata": {},
   "outputs": [],
   "source": []
  }
 ],
 "metadata": {
  "kernelspec": {
   "display_name": "Python 3 (ipykernel)",
   "language": "python",
   "name": "python3"
  },
  "language_info": {
   "codemirror_mode": {
    "name": "ipython",
    "version": 3
   },
   "file_extension": ".py",
   "mimetype": "text/x-python",
   "name": "python",
   "nbconvert_exporter": "python",
   "pygments_lexer": "ipython3",
   "version": "3.7.16"
  }
 },
 "nbformat": 4,
 "nbformat_minor": 5
}
