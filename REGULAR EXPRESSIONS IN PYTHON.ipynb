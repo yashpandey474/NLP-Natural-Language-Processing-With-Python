{
 "cells": [
  {
   "cell_type": "code",
   "execution_count": 26,
   "id": "275192eb",
   "metadata": {},
   "outputs": [],
   "source": [
    "text = \"Phone number is 408-555-1234. Call soon!\""
   ]
  },
  {
   "cell_type": "code",
   "execution_count": 3,
   "id": "d65238c1",
   "metadata": {},
   "outputs": [
    {
     "data": {
      "text/plain": [
       "True"
      ]
     },
     "execution_count": 3,
     "metadata": {},
     "output_type": "execute_result"
    }
   ],
   "source": [
    "\"Phone\" in text"
   ]
  },
  {
   "cell_type": "code",
   "execution_count": 4,
   "id": "7e9cebf6",
   "metadata": {},
   "outputs": [],
   "source": [
    "#ANY PHONE NUMBER IN THE TEXT?"
   ]
  },
  {
   "cell_type": "code",
   "execution_count": 5,
   "id": "4e9f24d1",
   "metadata": {},
   "outputs": [],
   "source": [
    "import re"
   ]
  },
  {
   "cell_type": "code",
   "execution_count": 8,
   "id": "0ab9a6e3",
   "metadata": {},
   "outputs": [],
   "source": [
    "pattern = \"Phone\""
   ]
  },
  {
   "cell_type": "code",
   "execution_count": 9,
   "id": "ae3ea1c7",
   "metadata": {},
   "outputs": [
    {
     "data": {
      "text/plain": [
       "<re.Match object; span=(0, 5), match='Phone'>"
      ]
     },
     "execution_count": 9,
     "metadata": {},
     "output_type": "execute_result"
    }
   ],
   "source": [
    "re.search(pattern, text)"
   ]
  },
  {
   "cell_type": "code",
   "execution_count": 10,
   "id": "c29c6234",
   "metadata": {},
   "outputs": [],
   "source": [
    "my_match = re.search(pattern, text)"
   ]
  },
  {
   "cell_type": "code",
   "execution_count": 12,
   "id": "7777b5d1",
   "metadata": {},
   "outputs": [
    {
     "data": {
      "text/plain": [
       "(0, 5)"
      ]
     },
     "execution_count": 12,
     "metadata": {},
     "output_type": "execute_result"
    }
   ],
   "source": [
    "my_match.span()"
   ]
  },
  {
   "cell_type": "code",
   "execution_count": 13,
   "id": "e7b5f1e9",
   "metadata": {},
   "outputs": [
    {
     "data": {
      "text/plain": [
       "5"
      ]
     },
     "execution_count": 13,
     "metadata": {},
     "output_type": "execute_result"
    }
   ],
   "source": [
    "my_match.start()\n",
    "my_match.end()"
   ]
  },
  {
   "cell_type": "code",
   "execution_count": 17,
   "id": "649f146c",
   "metadata": {},
   "outputs": [],
   "source": [
    "text = \"my Phone is a new Phone\""
   ]
  },
  {
   "cell_type": "code",
   "execution_count": 18,
   "id": "291c0d2c",
   "metadata": {},
   "outputs": [],
   "source": [
    "match = re.search(pattern, text) #ONLY IFNDS THE FIRST INSTANCE\n"
   ]
  },
  {
   "cell_type": "code",
   "execution_count": 19,
   "id": "737f1f9e",
   "metadata": {},
   "outputs": [
    {
     "data": {
      "text/plain": [
       "(3, 8)"
      ]
     },
     "execution_count": 19,
     "metadata": {},
     "output_type": "execute_result"
    }
   ],
   "source": [
    "match.span()"
   ]
  },
  {
   "cell_type": "code",
   "execution_count": 20,
   "id": "a7b1d3a3",
   "metadata": {},
   "outputs": [],
   "source": [
    "# TO GET ALL OCCURENCES:\n",
    "all_matches = re.findall(pattern, text)"
   ]
  },
  {
   "cell_type": "code",
   "execution_count": 22,
   "id": "1d2dc536",
   "metadata": {},
   "outputs": [
    {
     "data": {
      "text/plain": [
       "2"
      ]
     },
     "execution_count": 22,
     "metadata": {},
     "output_type": "execute_result"
    }
   ],
   "source": [
    "len(all_matches)"
   ]
  },
  {
   "cell_type": "code",
   "execution_count": 24,
   "id": "cf3e25aa",
   "metadata": {},
   "outputs": [
    {
     "name": "stdout",
     "output_type": "stream",
     "text": [
      "(3, 8)\n",
      "(18, 23)\n"
     ]
    }
   ],
   "source": [
    "for match in re.finditer(\"Phone\", text):\n",
    "    print(match.span())"
   ]
  },
  {
   "cell_type": "code",
   "execution_count": 37,
   "id": "2e8c5b60",
   "metadata": {},
   "outputs": [],
   "source": [
    "text = 'Phone number is 118-555-1234. Call soon!'"
   ]
  },
  {
   "cell_type": "code",
   "execution_count": 33,
   "id": "8578b8a9",
   "metadata": {},
   "outputs": [],
   "source": [
    "pattern = r'\\d\\d\\d-\\d\\d\\d-\\d\\d\\d\\d'"
   ]
  },
  {
   "cell_type": "code",
   "execution_count": 34,
   "id": "f78c5c2e",
   "metadata": {},
   "outputs": [],
   "source": [
    "phone_number = re.search(pattern, text)"
   ]
  },
  {
   "cell_type": "code",
   "execution_count": 38,
   "id": "9624f96c",
   "metadata": {},
   "outputs": [
    {
     "data": {
      "text/plain": [
       "'408-555-1234'"
      ]
     },
     "execution_count": 38,
     "metadata": {},
     "output_type": "execute_result"
    }
   ],
   "source": [
    "phone_number.group()"
   ]
  },
  {
   "cell_type": "code",
   "execution_count": 40,
   "id": "1366ba51",
   "metadata": {},
   "outputs": [],
   "source": [
    "##QUANTIFIERS: INSTEAD OF REPEATING /d etc. DEFINE HOW MANY TO EXPECT\n",
    "pattern = r'\\d{3}-\\d{3}-\\d{4}'\n"
   ]
  },
  {
   "cell_type": "code",
   "execution_count": 41,
   "id": "b0b544ac",
   "metadata": {},
   "outputs": [],
   "source": [
    "phone_number = re.search(pattern, text)"
   ]
  },
  {
   "cell_type": "code",
   "execution_count": 42,
   "id": "1422ece1",
   "metadata": {},
   "outputs": [
    {
     "data": {
      "text/plain": [
       "'118-555-1234'"
      ]
     },
     "execution_count": 42,
     "metadata": {},
     "output_type": "execute_result"
    }
   ],
   "source": [
    "phone_number.group()"
   ]
  },
  {
   "cell_type": "code",
   "execution_count": 43,
   "id": "4f1d01fc",
   "metadata": {},
   "outputs": [],
   "source": [
    "## FINDING DIFFERENT GROUPS\n",
    "pattern = r\"(\\d{3})-(\\d{3})-(\\d{4})\""
   ]
  },
  {
   "cell_type": "code",
   "execution_count": 44,
   "id": "e750e7c0",
   "metadata": {},
   "outputs": [],
   "source": [
    "match = re.search(pattern, text)"
   ]
  },
  {
   "cell_type": "code",
   "execution_count": 45,
   "id": "0965c854",
   "metadata": {},
   "outputs": [
    {
     "data": {
      "text/plain": [
       "'118-555-1234'"
      ]
     },
     "execution_count": 45,
     "metadata": {},
     "output_type": "execute_result"
    }
   ],
   "source": [
    "match.group()"
   ]
  },
  {
   "cell_type": "code",
   "execution_count": 46,
   "id": "5da9edab",
   "metadata": {},
   "outputs": [
    {
     "data": {
      "text/plain": [
       "'118'"
      ]
     },
     "execution_count": 46,
     "metadata": {},
     "output_type": "execute_result"
    }
   ],
   "source": [
    "match.group(1)"
   ]
  },
  {
   "cell_type": "code",
   "execution_count": 47,
   "id": "0050db58",
   "metadata": {},
   "outputs": [
    {
     "data": {
      "text/plain": [
       "'555'"
      ]
     },
     "execution_count": 47,
     "metadata": {},
     "output_type": "execute_result"
    }
   ],
   "source": [
    "match.group(2)"
   ]
  },
  {
   "cell_type": "code",
   "execution_count": 48,
   "id": "0a627c5b",
   "metadata": {},
   "outputs": [
    {
     "data": {
      "text/plain": [
       "'1234'"
      ]
     },
     "execution_count": 48,
     "metadata": {},
     "output_type": "execute_result"
    }
   ],
   "source": [
    "match.group(3)"
   ]
  },
  {
   "cell_type": "code",
   "execution_count": 49,
   "id": "31237f2a",
   "metadata": {},
   "outputs": [
    {
     "data": {
      "text/plain": [
       "'man'"
      ]
     },
     "execution_count": 49,
     "metadata": {},
     "output_type": "execute_result"
    }
   ],
   "source": [
    "## OR STATEMENT: a|b\n",
    "pattern = r\"man|woman\"\n",
    "text = \"This man was here\"\n",
    "match = re.search(pattern, text)\n",
    "match.group()"
   ]
  },
  {
   "cell_type": "code",
   "execution_count": 53,
   "id": "f961e058",
   "metadata": {},
   "outputs": [
    {
     "data": {
      "text/plain": [
       "[' cat', ' hat', 'plat']"
      ]
     },
     "execution_count": 53,
     "metadata": {},
     "output_type": "execute_result"
    }
   ],
   "source": [
    "## WILDCARD CHARACTER: MATCH ANYTHING: .\n",
    "pattern = r\"..at\"\n",
    "text = \"the cat in the hat splat\"\n",
    "re.findall(pattern, text)"
   ]
  },
  {
   "cell_type": "code",
   "execution_count": 55,
   "id": "a26b6fe5",
   "metadata": {},
   "outputs": [
    {
     "data": {
      "text/plain": [
       "['2']"
      ]
     },
     "execution_count": 55,
     "metadata": {},
     "output_type": "execute_result"
    }
   ],
   "source": [
    "## START AND END WITH\n",
    "# ^: starts with\n",
    "# $: ends with\n",
    "pattern = r\"\\d$\" #STRING ENDS WITH A NUMBER\n",
    "text = \"this is num2\"\n",
    "re.findall(pattern, text)"
   ]
  },
  {
   "cell_type": "code",
   "execution_count": 59,
   "id": "e11e9ad0",
   "metadata": {},
   "outputs": [
    {
     "data": {
      "text/plain": [
       "['There are ', ' numbers ', ' inside ', ' this sentence']"
      ]
     },
     "execution_count": 59,
     "metadata": {},
     "output_type": "execute_result"
    }
   ],
   "source": [
    "phrase = \"There are 3 numbers 34 inside 5 this sentence\"\n",
    "re.findall(r\"[^\\d]+\", phrase) #^ IN A SQUARE BRACKET MEANS TO EXCLUDE ANY DIGITS\n",
    "# +: ANYTHING THAT ISNT A NUMBER"
   ]
  },
  {
   "cell_type": "code",
   "execution_count": 60,
   "id": "295ec136",
   "metadata": {},
   "outputs": [],
   "source": [
    "### USED TO REMOVE PUNCTUATION FROM A SENTENCE\n",
    "test_phrase = \"This. is a string! with punctuation?\""
   ]
  },
  {
   "cell_type": "code",
   "execution_count": 82,
   "id": "e12f2c6a",
   "metadata": {},
   "outputs": [],
   "source": [
    "list = re.findall(r\"[^!.?]+\", test_phrase)"
   ]
  },
  {
   "cell_type": "code",
   "execution_count": 83,
   "id": "47154fc5",
   "metadata": {},
   "outputs": [
    {
     "data": {
      "text/plain": [
       "'This  is a string  with punctuation'"
      ]
     },
     "execution_count": 83,
     "metadata": {},
     "output_type": "execute_result"
    }
   ],
   "source": [
    "' '.join(list)"
   ]
  },
  {
   "cell_type": "code",
   "execution_count": 84,
   "id": "d49a03d5",
   "metadata": {},
   "outputs": [],
   "source": [
    "## + SIGN ALONG WITH BRACKETS FOR GROUPING"
   ]
  },
  {
   "cell_type": "code",
   "execution_count": 86,
   "id": "12ebe3ae",
   "metadata": {},
   "outputs": [],
   "source": [
    "text = \"Only find the hyphen-words. where are the long-ish dash words?\""
   ]
  },
  {
   "cell_type": "code",
   "execution_count": 88,
   "id": "d4bb458e",
   "metadata": {},
   "outputs": [
    {
     "data": {
      "text/plain": [
       "'Only find the hyphen-words where are the long-ish dash words'"
      ]
     },
     "execution_count": 88,
     "metadata": {},
     "output_type": "execute_result"
    }
   ],
   "source": [
    "' '.join(re.findall(r\"[^!.? ]+\", text))"
   ]
  },
  {
   "cell_type": "code",
   "execution_count": 94,
   "id": "b7ff2962",
   "metadata": {},
   "outputs": [
    {
     "data": {
      "text/plain": [
       "['Only',\n",
       " 'find',\n",
       " 'the',\n",
       " 'hyphen',\n",
       " 'words',\n",
       " 'where',\n",
       " 'are',\n",
       " 'the',\n",
       " 'long',\n",
       " 'ish',\n",
       " 'dash',\n",
       " 'words']"
      ]
     },
     "execution_count": 94,
     "metadata": {},
     "output_type": "execute_result"
    }
   ],
   "source": [
    "#FIND ALL GROUPS OF ALPHANUMERICS\n",
    "re.findall(r\"[\\w]+\", text)"
   ]
  },
  {
   "cell_type": "code",
   "execution_count": 100,
   "id": "6fdb188e",
   "metadata": {},
   "outputs": [
    {
     "data": {
      "text/plain": [
       "['hyphen-words', 'long-ish']"
      ]
     },
     "execution_count": 100,
     "metadata": {},
     "output_type": "execute_result"
    }
   ],
   "source": [
    "# FIND ALL HYPHENATED WORDS\n",
    "re.findall(r\"[\\w]+-[\\w]+\", text)\n",
    "\n",
    "# <ANY NUMBER OF ALPHANUMERICS>-<ANY NUMBER OF ALPHANUMERICS>"
   ]
  },
  {
   "cell_type": "code",
   "execution_count": null,
   "id": "b50e0fc2",
   "metadata": {},
   "outputs": [],
   "source": [
    "##PYTHON-TEXT BASICS: ASSESSMENT\n"
   ]
  }
 ],
 "metadata": {
  "kernelspec": {
   "display_name": "Python 3 (ipykernel)",
   "language": "python",
   "name": "python3"
  },
  "language_info": {
   "codemirror_mode": {
    "name": "ipython",
    "version": 3
   },
   "file_extension": ".py",
   "mimetype": "text/x-python",
   "name": "python",
   "nbconvert_exporter": "python",
   "pygments_lexer": "ipython3",
   "version": "3.7.16"
  }
 },
 "nbformat": 4,
 "nbformat_minor": 5
}
